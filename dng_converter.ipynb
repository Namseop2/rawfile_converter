{
 "cells": [
  {
   "cell_type": "code",
   "execution_count": 32,
   "id": "a5458dd1",
   "metadata": {},
   "outputs": [
    {
     "name": "stderr",
     "output_type": "stream",
     "text": [
      "Lossy conversion from float32 to uint8. Range [0, 1]. Convert image to uint8 prior to saving to suppress this warning.\n"
     ]
    },
    {
     "name": "stdout",
     "output_type": "stream",
     "text": [
      " raw_image_4000x3000_1740378677896.dng 파일 변환 중...\n"
     ]
    },
    {
     "name": "stderr",
     "output_type": "stream",
     "text": [
      "Lossy conversion from float32 to uint8. Range [0, 1]. Convert image to uint8 prior to saving to suppress this warning.\n"
     ]
    },
    {
     "name": "stdout",
     "output_type": "stream",
     "text": [
      " 변환 완료: Converted/raw_image_4000x3000_1740378677896.png\n",
      " raw_image_4000x3000_1740378693458.dng 파일 변환 중...\n",
      " 변환 완료: Converted/raw_image_4000x3000_1740378693458.png\n",
      " 모든 DNG 파일 변환이 완료되었습니다!\n"
     ]
    }
   ],
   "source": [
    "import os\n",
    "import rawpy\n",
    "import imageio\n",
    "\n",
    "#  저장된 DNG 파일 경로\n",
    "input_dir = os.path.expanduser(\"RawCapture/\")\n",
    "output_dir = os.path.expanduser(\"Converted/\")\n",
    "\n",
    "#  변환된 파일 저장 폴더 생성 (없으면 생성)\n",
    "if not os.path.exists(output_dir):\n",
    "    os.makedirs(output_dir)\n",
    "\n",
    "#  DNG 파일 목록 가져오기\n",
    "dng_files = [f for f in os.listdir(input_dir) if f.lower().endswith(\".dng\")]\n",
    "\n",
    "if not dng_files:\n",
    "    print(\" 변환할 DNG 파일이 없습니다.\")\n",
    "else:\n",
    "    for dng_file in dng_files:\n",
    "        input_path = os.path.join(input_dir, dng_file)\n",
    "        output_path = os.path.join(output_dir, dng_file.replace(\".dng\", \".png\"))\n",
    "\n",
    "        print(f\" {dng_file} 파일 변환 중...\")\n",
    "\n",
    "        try:\n",
    "            #  DNG 파일 열기\n",
    "            with rawpy.imread(input_path) as raw:\n",
    "#                 raw_image = raw.raw_image_visible.astype('uint16')  #  16비트 데이터 가져오기\n",
    "                raw_image = raw.raw_image_visible.astype(np.float32)  #  16비트 데이터 가져오기\n",
    "                raw_image/=np.max(raw_image)\n",
    "                #  16비트 PNG로 저장\n",
    "                imageio.imwrite(output_path, raw_image)\n",
    "\n",
    "            print(f\" 변환 완료: {output_path}\")\n",
    "\n",
    "        except Exception as e:\n",
    "            print(f\" 변환 실패: {e}\")\n",
    "\n",
    "print(\" 모든 DNG 파일 변환이 완료되었습니다!\")\n"
   ]
  }
 ],
 "metadata": {
  "kernelspec": {
   "display_name": "Python 3 (ipykernel)",
   "language": "python",
   "name": "python3"
  },
  "language_info": {
   "codemirror_mode": {
    "name": "ipython",
    "version": 3
   },
   "file_extension": ".py",
   "mimetype": "text/x-python",
   "name": "python",
   "nbconvert_exporter": "python",
   "pygments_lexer": "ipython3",
   "version": "3.7.13"
  }
 },
 "nbformat": 4,
 "nbformat_minor": 5
}
